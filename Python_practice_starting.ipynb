{
  "nbformat": 4,
  "nbformat_minor": 0,
  "metadata": {
    "colab": {
      "name": "Python practice starting.ipynb",
      "provenance": [],
      "collapsed_sections": [
        "s-81mHzGw0dX"
      ],
      "include_colab_link": true
    },
    "kernelspec": {
      "display_name": "Python 3",
      "name": "python3"
    },
    "language_info": {
      "name": "python"
    },
    "accelerator": "TPU"
  },
  "cells": [
    {
      "cell_type": "markdown",
      "metadata": {
        "id": "view-in-github",
        "colab_type": "text"
      },
      "source": [
        "<a href=\"https://colab.research.google.com/github/madhav6412/Python_practice/blob/main/Python_practice_starting.ipynb\" target=\"_parent\"><img src=\"https://colab.research.google.com/assets/colab-badge.svg\" alt=\"Open In Colab\"/></a>"
      ]
    },
    {
      "cell_type": "code",
      "metadata": {
        "id": "YLCv5G5LV4f3"
      },
      "source": [
        "import pandas as pd\n",
        "import numpy as np"
      ],
      "execution_count": null,
      "outputs": []
    },
    {
      "cell_type": "code",
      "metadata": {
        "colab": {
          "base_uri": "https://localhost:8080/"
        },
        "id": "8Dk7NUJrWRlh",
        "outputId": "c500fc2c-b608-4dce-8d40-ad316d29f37d"
      },
      "source": [
        "a = ('madhav')\n",
        "print(len(a))"
      ],
      "execution_count": null,
      "outputs": [
        {
          "output_type": "stream",
          "text": [
            "6\n"
          ],
          "name": "stdout"
        }
      ]
    },
    {
      "cell_type": "code",
      "metadata": {
        "id": "wftpE3hqWyxK"
      },
      "source": [
        "#len()"
      ],
      "execution_count": null,
      "outputs": []
    },
    {
      "cell_type": "markdown",
      "metadata": {
        "id": "yF88M_fvXVQB"
      },
      "source": [
        "\n",
        "\n",
        "```\n",
        "# This is formatted as code\n",
        "```\n",
        "\n",
        "# Name generator"
      ]
    },
    {
      "cell_type": "code",
      "metadata": {
        "colab": {
          "base_uri": "https://localhost:8080/"
        },
        "id": "kTCo_8U7XYm3",
        "outputId": "e24fceb4-48f9-4532-d876-ef946ca701a5"
      },
      "source": [
        "print(\"Good Morning,welcome to band name generator !\")\n",
        "city = input(\"The city that you are grew Up in \\n\")\n",
        "pet_name = input('Please tell us the name of your pet\\n')\n",
        "print(\"your band name could be \\n\" + city + \" \" + pet_name)\n"
      ],
      "execution_count": null,
      "outputs": [
        {
          "output_type": "stream",
          "text": [
            "Good Morning,welcome to band name generator !\n",
            "The city that you are grew Up in \n",
            "ujjain\n",
            "Please tell us the name of your pet\n",
            "Tomy\n",
            "your band name could beujjain Tomy\n"
          ],
          "name": "stdout"
        }
      ]
    },
    {
      "cell_type": "code",
      "metadata": {
        "colab": {
          "base_uri": "https://localhost:8080/"
        },
        "id": "QQddypxIXdLU",
        "outputId": "d55fb5cd-0fee-4a0b-e9d5-8f5edbfff90a"
      },
      "source": [
        "##Print a two digit number later it will revert me the sum of numbers\n",
        "number =input(str(\"enter your number\"))\n",
        "number = int(number[0])+ int(number[1])\n",
        "print(number)"
      ],
      "execution_count": null,
      "outputs": [
        {
          "output_type": "stream",
          "text": [
            "enter your number12\n",
            "3\n"
          ],
          "name": "stdout"
        }
      ]
    },
    {
      "cell_type": "code",
      "metadata": {
        "colab": {
          "base_uri": "https://localhost:8080/"
        },
        "id": "YbDa1mhqe5IL",
        "outputId": "99f15ddc-4d85-43e0-cabd-ed08819888b1"
      },
      "source": [
        "number = input(\"type a two digit number\\n\")\n",
        "first =number[0]\n",
        "second =number[1]\n",
        "result =int(first) + int(second)\n",
        "result"
      ],
      "execution_count": null,
      "outputs": [
        {
          "output_type": "stream",
          "text": [
            "type a two digit number\n",
            "23\n"
          ],
          "name": "stdout"
        },
        {
          "output_type": "execute_result",
          "data": {
            "text/plain": [
              "5"
            ]
          },
          "metadata": {
            "tags": []
          },
          "execution_count": 12
        }
      ]
    },
    {
      "cell_type": "code",
      "metadata": {
        "id": "Dm-SMx0ufyG9",
        "colab": {
          "base_uri": "https://localhost:8080/"
        },
        "outputId": "90ae758f-63b3-43b1-ae50-a7dd92d90daa"
      },
      "source": [
        "height = int(input(\"enter the height\"))\n",
        "weight = int(input('WEight'))\n",
        "BMI = (weight / height**2)\n",
        "print(BMI)"
      ],
      "execution_count": null,
      "outputs": [
        {
          "output_type": "stream",
          "text": [
            "enter the height45\n",
            "WEight48\n",
            "0.023703703703703703\n"
          ],
          "name": "stdout"
        }
      ]
    },
    {
      "cell_type": "code",
      "metadata": {
        "id": "9Mn4dApARu5D",
        "colab": {
          "base_uri": "https://localhost:8080/"
        },
        "outputId": "e8a54fbe-083c-4901-bdcd-053870924595"
      },
      "source": [
        "age = int(input(\"what is your current age\"))\n",
        "years = 90 - age\n",
        "months = years *12\n",
        "days = years*365\n",
        "remaining = f\"you have {days}, {months} and {years}\"\n",
        "print(remaining)"
      ],
      "execution_count": null,
      "outputs": [
        {
          "output_type": "stream",
          "text": [
            "what is your current age23\n",
            "you have 24455, 804 and 67\n"
          ],
          "name": "stdout"
        }
      ]
    },
    {
      "cell_type": "code",
      "metadata": {
        "id": "68smMoIj8uNc",
        "colab": {
          "base_uri": "https://localhost:8080/"
        },
        "outputId": "9199f534-a4c0-462d-c653-7656183c15cc"
      },
      "source": [
        "#tip calculator\n",
        "total_bill = float(input(\"\\n What was the total bill $ \"))\n",
        "tip = float(input(\"\\n how many percentage you want to give tip \"))\n",
        "persons = float(input(\"\\n number of people\"))\n",
        "final_bill_tip = total_bill*(1+ total_bill)\n",
        "final_bill = round(final_bill / persons)\n",
        "print(f\"each person should pay {final_bill}\")"
      ],
      "execution_count": null,
      "outputs": [
        {
          "output_type": "stream",
          "text": [
            "\n",
            " What was the total bill $123\n",
            "\n",
            " how many percentage you want to give tip5\n",
            "\n",
            " number of people8\n",
            "each person should pay 5\n"
          ],
          "name": "stdout"
        }
      ]
    },
    {
      "cell_type": "code",
      "metadata": {
        "colab": {
          "base_uri": "https://localhost:8080/"
        },
        "id": "SByPsQHDejki",
        "outputId": "71188444-0f1b-4c6a-b9a9-ead0e4d6929a"
      },
      "source": [
        "#Weather a number is odd and even\n",
        "number =int(input(\"Which number you wants to check \"))\n",
        "if number % 2 == 0:\n",
        "  print(\"Above number is Even\")\n",
        "else:\n",
        "  print(\"odd\")"
      ],
      "execution_count": null,
      "outputs": [
        {
          "output_type": "stream",
          "text": [
            "Which number you wants to check 57\n",
            "odd\n"
          ],
          "name": "stdout"
        }
      ]
    },
    {
      "cell_type": "code",
      "metadata": {
        "colab": {
          "base_uri": "https://localhost:8080/"
        },
        "id": "SD9fnT1MiiZd",
        "outputId": "66dbefb7-c245-4075-aa88-6082e6990a42"
      },
      "source": [
        "height = int(input(\"please enter the height\"))\n",
        "if height >=120:\n",
        "  print(\"you can ride the roller\")\n",
        "  age = int(input(\"Age \"))\n",
        "  if age < 12:\n",
        "    print(\"You Hve to pay $ 5\")\n",
        "  elif age <= 18:\n",
        "    print(\"please pay $ 7\")\n",
        "  else:\n",
        "    print(\"please pay $ 12\")\n",
        "else:\n",
        "  print(\"Go home baby\")3"
      ],
      "execution_count": null,
      "outputs": [
        {
          "output_type": "stream",
          "text": [
            "please enter the height444\n",
            "you can ride the roller\n",
            "Age 16\n",
            "please pay $ 7\n"
          ],
          "name": "stdout"
        }
      ]
    },
    {
      "cell_type": "code",
      "metadata": {
        "colab": {
          "base_uri": "https://localhost:8080/"
        },
        "id": "9v4kOT6UjO4p",
        "outputId": "1b760273-92ed-467e-a8dd-56f74cf88d50"
      },
      "source": [
        " #BMI EXercise\n",
        " height = float(input(\"please Enter Your height \"))\n",
        " weight = float(input(\"please Enter yoyur weight \"))\n",
        " bmi = weight /height**2\n",
        "print(bmi)\n",
        "if bmi <=18.5:\n",
        "  print(\"Underweight\")\n",
        "elif bmi  <=25:\n",
        "  print(\"Normal weight\")\n",
        "elif bmi <=30:\n",
        "  print(\"overweight\")\n",
        "elif bmi <=35:\n",
        "  print(\"obese\")\n",
        "else:\n",
        "  print(\" Clinically obese\")"
      ],
      "execution_count": null,
      "outputs": [
        {
          "output_type": "stream",
          "text": [
            "please Enter Your height 1.86\n",
            "please Enter yoyur weight 86\n",
            "24.858365128916635\n",
            "Normal weight\n"
          ],
          "name": "stdout"
        }
      ]
    },
    {
      "cell_type": "code",
      "metadata": {
        "colab": {
          "base_uri": "https://localhost:8080/"
        },
        "id": "EsIxQ4CnrG0Y",
        "outputId": "60130be4-bf55-4a5e-ee0a-5bcfea7d4dca"
      },
      "source": [
        "#Leap year exercise\n",
        "year = int(input(\"Which year You want to check ? \"))\n",
        "if year % 4 == 0 :\n",
        "  if year % 100 ==0:\n",
        "    if year % 400 ==0:\n",
        "      print(\"leap year\")\n",
        "    else:\n",
        "      print(' NOT a Leap year')\n",
        "  else:\n",
        "    print(\"That is not the leap year\")\n",
        "else:\n",
        "  print(\"leawp year\")"
      ],
      "execution_count": null,
      "outputs": [
        {
          "output_type": "stream",
          "text": [
            "Which year You want to check ? 120\n",
            "That is not the leap year\n"
          ],
          "name": "stdout"
        }
      ]
    },
    {
      "cell_type": "code",
      "metadata": {
        "colab": {
          "base_uri": "https://localhost:8080/"
        },
        "id": "pUWX2_g4tqjs",
        "outputId": "5c3496ca-d20b-452b-8014-f9902fa6c6b0"
      },
      "source": [
        "year = int(input(\"Which year you want to check\"))\n",
        "if year % 4 ==0:\n",
        "  if year % 100 ==0:\n",
        "    if year  % 400 ==0:\n",
        "      print(\"leap\")\n",
        "    else:\n",
        "      print(\"not leap\")\n",
        "  else:\n",
        "    print(\"leap\")\n",
        "else:\n",
        "  print(\"not leap\")"
      ],
      "execution_count": null,
      "outputs": [
        {
          "output_type": "stream",
          "text": [
            "Which year you want to check500\n",
            "not leap\n"
          ],
          "name": "stdout"
        }
      ]
    },
    {
      "cell_type": "code",
      "metadata": {
        "id": "Xd6C0-V9vXHk",
        "colab": {
          "base_uri": "https://localhost:8080/"
        },
        "outputId": "f31cd852-59de-45a2-8d00-837913ecb9fe"
      },
      "source": [
        "height = int(input(\"please enter the height : \"))\n",
        "if height > 120:\n",
        "  print(\"can ride\")\n",
        "  age = int(input(\"Enter age :\"))\n",
        "  if age <= 12:\n",
        "    bill = 5\n",
        "  elif age <=18:\n",
        "    bill = 7\n",
        "  else:\n",
        "    bill =12\n",
        "\n",
        "  want_photo = input(\"Do you want photo taken ? Y or N\")\n",
        "\n",
        "  if want_photo == \"Y\":\n",
        "    bill +=3\n",
        "  print(f\"Your final bill is {bill}\")\n",
        "else:\n",
        "  print(\"Go to home\")"
      ],
      "execution_count": null,
      "outputs": [
        {
          "output_type": "stream",
          "text": [
            "please enter the height : 121\n",
            "can ride\n",
            "Enter age :21\n",
            "Do you want photo taken ? Y or NY\n",
            "Your final bill is 15\n"
          ],
          "name": "stdout"
        }
      ]
    },
    {
      "cell_type": "code",
      "metadata": {
        "id": "a-0RiMW4mRwN"
      },
      "source": [
        "##Pizza order programm\n",
        "print(\"welcome to the prizza  deliveries\")\n",
        "size = input(\"What Size of pizza do you want\\n L,S or M :\")\n",
        "add_pepperoni =input(\"Do you want pepperoni ?: Y or N :\")\n",
        "extra_cheese = input(\"Do you want extra cheese ? Y or N :\")\n",
        "bill = 0\n",
        "if size == \"S\":\n",
        "  bill += 15\n",
        "elif size ==\"M\":\n",
        "  bill += 20\n",
        "else:\n",
        "  bill += 25\n",
        "\n",
        "if add_pepperoni =='Y':\n",
        "  if size ==\"S\":                   #Nested IF condition\n",
        "    bill =+2\n",
        "  else:\n",
        "    bill =+3\n",
        "  bill +=3\n",
        "\n",
        "if extra_cheese ==\"Y\":\n",
        "  bill =+1\n",
        "print(f\"final bill is {bill}\")"
      ],
      "execution_count": null,
      "outputs": []
    },
    {
      "cell_type": "code",
      "metadata": {
        "colab": {
          "base_uri": "https://localhost:8080/"
        },
        "id": "yr8aFNP1whZm",
        "outputId": "7a67ca28-6527-466d-a703-3a09fd498b2a"
      },
      "source": [
        "# We can use the same above codees using the logical operators\n",
        "\n",
        "height = int(input(\"please enter the height : \"))\n",
        "if height > 120:\n",
        "  print(\"can ride\")\n",
        "  age = int(input(\"Enter age :\"))\n",
        "  if age <= 12:\n",
        "    bill = 5\n",
        "    print(f\"Ticket {bill}\")\n",
        "  elif age <=18:\n",
        "    bill = 7\n",
        "    print(f\"Ticket {bill}\")\n",
        "  elif age >=45 and age <=55:       #Using the logical operators\n",
        "    bill =0\n",
        "    print(\"Your ride is free\")\n",
        "  else:\n",
        "    bill =12\n",
        "    print(f\"Ticket {bill}\")\n",
        "\n",
        "  want_photo = input(\"Do you want photo taken ? Y or N\")\n",
        "\n",
        "  if want_photo == \"Y\":\n",
        "    bill +=3\n",
        "  print(f\"Your final bill is {bill}\")\n",
        "else:\n",
        "  print(\"Go to home\")"
      ],
      "execution_count": null,
      "outputs": [
        {
          "output_type": "stream",
          "text": [
            "please enter the height : 121\n",
            "can ride\n",
            "Enter age :45\n",
            "Your ride is free\n",
            "Do you want photo taken ? Y or NN\n",
            "Your final bill is 0\n"
          ],
          "name": "stdout"
        }
      ]
    },
    {
      "cell_type": "code",
      "metadata": {
        "id": "3fu8SIYrx3f1",
        "colab": {
          "base_uri": "https://localhost:8080/"
        },
        "outputId": "9bf460c6-344b-432f-eb06-6ac174a80105"
      },
      "source": [
        "##Love Calculator\n",
        "print(\"Aao aap b check kijiyhe apne kitna pyar kiya hai\")\n",
        "name1 = input(\" Apna naam daalo \")\n",
        "name2 =input(\" Saamne waale ka b  \")\n",
        "\n",
        "name1_lower = name1.lower()\n",
        "name2_lower = name2.lower()\n",
        "\n",
        "combine_name = name1_lower + name2_lower\n",
        "\n",
        "t =  combine_name.count(\"t\")\n",
        "r = combine_name.count(\"r\")\n",
        "u = combine_name.count(\"u\")\n",
        "e = combine_name.count(\"e\")\n",
        "\n",
        "true = t+r+u+e\n",
        "\n",
        "l =  combine_name.count(\"l\")\n",
        "o = combine_name.count(\"o\")\n",
        "v = combine_name.count(\"v\")\n",
        "e = combine_name.count(\"e\")\n",
        "\n",
        "love =l+o+v+e\n",
        "\n",
        "love_score = str(true) + str(love)\n",
        "print(love_score)\n",
        "# comparisions would be int but we chanded that to str earlier\n",
        "love_score =int(love_score)\n",
        "if (love_score <=10)or (love_score >=90):\n",
        "  print(f\" Tumhara love score hai {love_score} beta Ghar jaao padhai karo maa baap ka naam roshan karo\")\n",
        "elif(love_score >=40 and love_score <=50):\n",
        "  print(f\" Tumhara maamla complicated hai is score ke sath {love_score}\")\n",
        "elif(love_score >=51 and love_score <=70):\n",
        "  print(f\" OHO kya baat hai dekho apna love score : {love_score}\")  \n",
        "elif(love_score >=70 and love_score <=80):\n",
        "  print(f\" Ghazab itna pyar toh kisi ko kisi se nahi huva is zamane me dekho : {love_score}\")  \n",
        "else:\n",
        "  print(f\" Dekh lo tumhara love score hai  {love_score}  ab toh bas intejaar hai kab {name1} weds {name2}\")\n"
      ],
      "execution_count": null,
      "outputs": [
        {
          "output_type": "stream",
          "text": [
            "Aao aap b check kijiyhe apne kitna pyar kiya hai\n",
            " Apna naam daalo Sakina Kansarawala\n",
            " Saamne waale ka b  Sheetal Borasi\n",
            "55\n",
            " OHO kya baat hai dekho apna love score : 55\n"
          ],
          "name": "stdout"
        }
      ]
    },
    {
      "cell_type": "markdown",
      "metadata": {
        "id": "s-81mHzGw0dX"
      },
      "source": [
        "\n",
        "\n",
        "```\n",
        "# This is formatted as code\n",
        "```\n",
        "\n",
        "# Treasure hunt"
      ]
    },
    {
      "cell_type": "code",
      "metadata": {
        "id": "hrCVaw9Jv4ms",
        "colab": {
          "base_uri": "https://localhost:8080/"
        },
        "outputId": "d8572c2c-ca5d-4b0c-9817-1960f0313108"
      },
      "source": [
        "#tresure hunt\n",
        "print(\"Welcome\\n MIssion is to find the hidden tresure\")\n",
        "choice1= input(\"Do you want to go 'left' or 'right'\")\n",
        "choice1 =choice1.lower()\n",
        "\n",
        "if choice1 == \"left\":\n",
        "  choice2 = input(\"You\\'ve come to a lake.there is an island in the middle of the lake. type 'wait' to wait for a boat.Type 'swim' to swim \" ).lower()\n",
        "  if choice2 == \"wait\":\n",
        "    #continue\n",
        "    choice3 = input(\"which color you choose red blue yellow\").lower()\n",
        "    if choice3 == \"red\":\n",
        "      print(\"game over\")\n",
        "    elif choice3 == 'yellow':\n",
        "      print(\"you found tresure\")\n",
        "    elif choice3 == \"blue\":\n",
        "      print(\"game over\")\n",
        "    else:\n",
        "      print(\"game over\")\n",
        "  else:\n",
        "    print(\"game over\")\n",
        "#continue in the game\n",
        "\n",
        "else:\n",
        "  print(\"game over\")\n"
      ],
      "execution_count": null,
      "outputs": [
        {
          "output_type": "stream",
          "text": [
            "Welcome\n",
            " MIssion is to find the hidden tresure\n",
            "Do you want to go 'left' or 'right'left\n",
            "You've come to a lake.there is an island in the middle of the lake. type 'wait' to wait for a boat.Type 'swim' to swim wait\n",
            "which color you choose red blue yellowyellow\n",
            "you found tresure\n"
          ],
          "name": "stdout"
        }
      ]
    },
    {
      "cell_type": "markdown",
      "metadata": {
        "id": "MtxTHJURwXWv"
      },
      "source": [
        "# #Random Exercise. Banker roulette - who will pay the bill\n",
        "\n"
      ]
    },
    {
      "cell_type": "code",
      "metadata": {
        "id": "sT2UkZMl4WUW"
      },
      "source": [
        "import random\n",
        "\n",
        "names_string = input(\"give me everybody's names, seperated by a comma.\")\n",
        "names = names_string.split(\",\")\n",
        "#get the toltal number of items in the list\n",
        "num_items  = (len(names))\n",
        "random_choice = random.randint(0, num_items -1)\n",
        "person_who_will_pay = names[random_choice]\n",
        "print(person_who_will_pay + \"is going to buy the meal today\")"
      ],
      "execution_count": null,
      "outputs": []
    },
    {
      "cell_type": "code",
      "metadata": {
        "colab": {
          "base_uri": "https://localhost:8080/"
        },
        "id": "q1xOKupoPMt-",
        "outputId": "33c4de93-d636-4f69-ea39-c26b853ee449"
      },
      "source": [
        "# Seed Number saves the state of the Random number\n",
        "import random\n",
        "\n",
        "seed_number = int(input(\"enter the seed number :\"))\n",
        "print(random.seed(seed_number))\n",
        "\n",
        "random_side = random.randint(0, 1)\n",
        "if random_side == 0:\n",
        "    print(\"Heads\")\n",
        "else:\n",
        "    print(\"Tails\")\n"
      ],
      "execution_count": null,
      "outputs": [
        {
          "output_type": "stream",
          "text": [
            "enter the seed number :5\n",
            "None\n",
            "Tails\n"
          ],
          "name": "stdout"
        }
      ]
    },
    {
      "cell_type": "code",
      "metadata": {
        "colab": {
          "base_uri": "https://localhost:8080/"
        },
        "id": "aMxygCZzPjoA",
        "outputId": "7791b745-7156-4ca8-c0a3-50d4c39a1eb6"
      },
      "source": [
        "seed_number"
      ],
      "execution_count": null,
      "outputs": [
        {
          "output_type": "execute_result",
          "data": {
            "text/plain": [
              "5"
            ]
          },
          "metadata": {
            "tags": []
          },
          "execution_count": 3
        }
      ]
    },
    {
      "cell_type": "code",
      "metadata": {
        "colab": {
          "base_uri": "https://localhost:8080/"
        },
        "id": "bfirebGvQr7B",
        "outputId": "1eb87178-a4ab-46f9-8745-e914aa40eb86"
      },
      "source": [
        "#Project Rock Paper Scissors.\n",
        "rock = '''\n",
        "    _______\n",
        "---'   ____)\n",
        "      (_____)\n",
        "      (_____)\n",
        "      (____)\n",
        "---.__(___)\n",
        "'''\n",
        "\n",
        "paper = '''\n",
        "    _______\n",
        "---'   ____)____\n",
        "          ______)\n",
        "          _______)\n",
        "         _______)\n",
        "---.__________)\n",
        "'''\n",
        "\n",
        "scissors = '''\n",
        "    _______\n",
        "---'   ____)____\n",
        "          ______)\n",
        "       __________)\n",
        "      (____)\n",
        "---.__(___)\n",
        "'''\n",
        "\n",
        "import random\n",
        "\n",
        "user_choice = int(\n",
        "    input(\n",
        "        \"What do you want to choose ? Type 0, for rock, 1 for paper and 2 for scissors\\n\"\n",
        "    ))\n",
        "\n",
        "games_images = [rock, paper, scissors]\n",
        "\n",
        "print(games_images[user_choice\n",
        "                   ])\n",
        "\n",
        "computer_choice = random.randint(0, 2)\n",
        "print(games_images[computer_choice\n",
        "                   ])\n",
        "print(f\"computer_choose :{computer_choice}\")\n",
        "if user_choice == 0 and computer_choice == 2:\n",
        "    print(\"You Win\")\n",
        "elif computer_choice > user_choice:\n",
        "    print(\"You lose !\")\n",
        "elif user_choice == 2 and computer_choice ==1:\n",
        "  print(\"you wins\")\n",
        "elif user_choice == 2 and computer_choice ==0:\n",
        "  print(\"you lose\")\n",
        "elif user_choice == 1 and computer_choice ==0:\n",
        "  print(\"you lose\")\n",
        "elif user_choice == computer_choice:\n",
        "  print(\"Draw\")\n",
        "else:\n",
        "  print(\"Invalid Entry\")\n"
      ],
      "execution_count": null,
      "outputs": [
        {
          "output_type": "stream",
          "text": [
            "What do you want to choose ? Type 0, for rock, 1 for paper and 2 for scissors\n",
            "2\n",
            "\n",
            "    _______\n",
            "---'   ____)____\n",
            "          ______)\n",
            "       __________)\n",
            "      (____)\n",
            "---.__(___)\n",
            "\n",
            "\n",
            "    _______\n",
            "---'   ____)\n",
            "      (_____)\n",
            "      (_____)\n",
            "      (____)\n",
            "---.__(___)\n",
            "\n",
            "computer_choose :0\n",
            "you lose\n"
          ],
          "name": "stdout"
        }
      ]
    },
    {
      "cell_type": "code",
      "metadata": {
        "id": "kgOLk0PwcJ12",
        "colab": {
          "base_uri": "https://localhost:8080/"
        },
        "outputId": "c22cc9cd-da9a-4af1-c651-100cd842ab05"
      },
      "source": [
        "# Average height using sum functions\n",
        "students_heights  = input(\"list of students height : \").split()\n",
        "for n in range(0, len(students_heights)):\n",
        "  students_heights[n]= int(students_heights[n])\n",
        "print(students_heights)\n",
        "\n",
        "total_height = sum(students_heights)\n",
        "number_of_students =len(students_heights)\n",
        "average_height = round(total_height /number_of_students)\n",
        "print(average_height)"
      ],
      "execution_count": null,
      "outputs": [
        {
          "output_type": "stream",
          "text": [
            "list of students height : 123 142 152 136\n",
            "[123, 142, 152, 136]\n",
            "138\n"
          ],
          "name": "stdout"
        }
      ]
    },
    {
      "cell_type": "code",
      "metadata": {
        "colab": {
          "base_uri": "https://localhost:8080/"
        },
        "id": "ZhRLv85uenWp",
        "outputId": "b6a2a3d5-6448-4939-cc54-deab197f8290"
      },
      "source": [
        "total_height"
      ],
      "execution_count": null,
      "outputs": [
        {
          "output_type": "execute_result",
          "data": {
            "text/plain": [
              "870"
            ]
          },
          "metadata": {
            "tags": []
          },
          "execution_count": 26
        }
      ]
    },
    {
      "cell_type": "code",
      "metadata": {
        "colab": {
          "base_uri": "https://localhost:8080/"
        },
        "id": "aJLN7FbRgk8a",
        "outputId": "181a57de-2753-4e45-929a-c5bbbb3cb2b7"
      },
      "source": [
        "students_heights = input(\"height \").split()\n",
        "for n in range(0, len(students_heights)):\n",
        "  students_heights[n] = int(students_heights[n])\n",
        "print(students_heights)\n",
        "\n",
        "total_height = 0\n",
        "for height in students_heights:\n",
        "  total_height += height\n",
        "# print(total_height)   #\n",
        "number_of_students = 0\n",
        "for students in students_heights:\n",
        "  number_of_students += 1\n",
        "# print(number_of_students)\n",
        "average = round(total_height / number_of_students)\n",
        "print(average)"
      ],
      "execution_count": null,
      "outputs": [
        {
          "output_type": "stream",
          "text": [
            "height 12 13 15\n",
            "[12, 13, 15]\n",
            "13\n"
          ],
          "name": "stdout"
        }
      ]
    },
    {
      "cell_type": "code",
      "metadata": {
        "id": "J9Q5JIu6gndB",
        "colab": {
          "base_uri": "https://localhost:8080/"
        },
        "outputId": "55480819-c41d-4f9b-c019-585954b8c59c"
      },
      "source": [
        "student_scores = input(\"Input list of scores \\n\").split()\n",
        "for n in range(0, len(student_scores)):\n",
        "  student_scores[n] = int(student_scores[n])\n",
        "  \n",
        "highest_score =0\n",
        "for score in student_scores:\n",
        "  if score > highest_score:\n",
        "    highest_score = score\n",
        "print(f\"Higest score is {highest_score}\")\n"
      ],
      "execution_count": null,
      "outputs": [
        {
          "output_type": "stream",
          "text": [
            "Input list of scores \n",
            "12 23\n",
            "Higest score is 23\n"
          ],
          "name": "stdout"
        }
      ]
    },
    {
      "cell_type": "code",
      "metadata": {
        "colab": {
          "base_uri": "https://localhost:8080/"
        },
        "id": "D_QihzUCtUOX",
        "outputId": "ecafedd7-8c43-4b66-fc3c-38b66a99e114"
      },
      "source": [
        "\n",
        "student_scores = [123,234,4,5]\n",
        "highest_score = 0\n",
        "for score in student_scores:\n",
        "  if score > highest_score:\n",
        "    highest_score =score\n",
        "print(f\"Higest score is {highest_score}\")\n"
      ],
      "execution_count": null,
      "outputs": [
        {
          "output_type": "stream",
          "text": [
            "Higest score is 234\n"
          ],
          "name": "stdout"
        }
      ]
    },
    {
      "cell_type": "code",
      "metadata": {
        "colab": {
          "base_uri": "https://localhost:8080/"
        },
        "id": "sXTpm0TqzKRQ",
        "outputId": "646c82d3-ddf1-4618-df32-9ed639cc79d2"
      },
      "source": [
        "student_scores = [123,234,4,5]\n",
        "lowest_score = 0\n",
        "for score in student_scores:\n",
        "  if score < lowest_score:\n",
        "    lowest_score =score\n",
        "\n",
        "print(f\"Higest score is {lowest_score}\")\n"
      ],
      "execution_count": null,
      "outputs": [
        {
          "output_type": "stream",
          "text": [
            "Higest score is 4\n"
          ],
          "name": "stdout"
        }
      ]
    },
    {
      "cell_type": "code",
      "metadata": {
        "id": "_zoXULzyzmx1",
        "colab": {
          "base_uri": "https://localhost:8080/"
        },
        "outputId": "42aa7687-b6aa-4b63-d247-f56a0628485c"
      },
      "source": [
        "total =0\n",
        "for number in range(2,101,2):\n",
        "  # print(number)\n",
        "  total +=number\n",
        "total\n",
        "\n",
        "total2 = 0\n",
        "for number in range(1,101):\n",
        "  if number %2 ==0:\n",
        "    total2 += number\n",
        "total2"
      ],
      "execution_count": null,
      "outputs": [
        {
          "output_type": "execute_result",
          "data": {
            "text/plain": [
              "2550"
            ]
          },
          "metadata": {
            "tags": []
          },
          "execution_count": 5
        }
      ]
    },
    {
      "cell_type": "code",
      "metadata": {
        "colab": {
          "base_uri": "https://localhost:8080/"
        },
        "id": "c80tiDaLWk50",
        "outputId": "c53f76ba-2420-453b-ee5c-d82d6990a0a8"
      },
      "source": [
        "## Fizz Buzz\n",
        "\n",
        "for number in range(1, 101):\n",
        "  if number % 3 ==0 and number % 5 ==0:\n",
        "    print(\"fizz buzz\")\n",
        "\n",
        "  elif number % 5 ==0:\n",
        "    print(\"Fizz\")\n",
        "  elif number % 3 ==0:\n",
        "    print(\"buzz\")\n",
        "  else:\n",
        "    print(number)"
      ],
      "execution_count": null,
      "outputs": [
        {
          "output_type": "stream",
          "text": [
            "1\n",
            "2\n",
            "buzz\n",
            "4\n",
            "Fizz\n",
            "buzz\n",
            "7\n",
            "8\n",
            "buzz\n",
            "Fizz\n",
            "11\n",
            "buzz\n",
            "13\n",
            "14\n",
            "fizz buzz\n",
            "16\n",
            "17\n",
            "buzz\n",
            "19\n",
            "Fizz\n",
            "buzz\n",
            "22\n",
            "23\n",
            "buzz\n",
            "Fizz\n",
            "26\n",
            "buzz\n",
            "28\n",
            "29\n",
            "fizz buzz\n",
            "31\n",
            "32\n",
            "buzz\n",
            "34\n",
            "Fizz\n",
            "buzz\n",
            "37\n",
            "38\n",
            "buzz\n",
            "Fizz\n",
            "41\n",
            "buzz\n",
            "43\n",
            "44\n",
            "fizz buzz\n",
            "46\n",
            "47\n",
            "buzz\n",
            "49\n",
            "Fizz\n",
            "buzz\n",
            "52\n",
            "53\n",
            "buzz\n",
            "Fizz\n",
            "56\n",
            "buzz\n",
            "58\n",
            "59\n",
            "fizz buzz\n",
            "61\n",
            "62\n",
            "buzz\n",
            "64\n",
            "Fizz\n",
            "buzz\n",
            "67\n",
            "68\n",
            "buzz\n",
            "Fizz\n",
            "71\n",
            "buzz\n",
            "73\n",
            "74\n",
            "fizz buzz\n",
            "76\n",
            "77\n",
            "buzz\n",
            "79\n",
            "Fizz\n",
            "buzz\n",
            "82\n",
            "83\n",
            "buzz\n",
            "Fizz\n",
            "86\n",
            "buzz\n",
            "88\n",
            "89\n",
            "fizz buzz\n",
            "91\n",
            "92\n",
            "buzz\n",
            "94\n",
            "Fizz\n",
            "buzz\n",
            "97\n",
            "98\n",
            "buzz\n",
            "Fizz\n"
          ],
          "name": "stdout"
        }
      ]
    },
    {
      "cell_type": "code",
      "metadata": {
        "colab": {
          "base_uri": "https://localhost:8080/"
        },
        "id": "bvNAi4YWYKpt",
        "outputId": "06bd4b9f-5e7a-48fb-c766-0a2c64b7f636"
      },
      "source": [
        "#Password Generator Project\n",
        "import random\n",
        "letters = ['a', 'b', 'c', 'd', 'e', 'f', 'g', 'h', 'i', 'j', 'k', 'l', 'm', 'n', 'o', 'p', 'q', 'r', 's', 't', 'u', 'v', 'w', 'x', 'y', 'z', 'A', 'B', 'C', 'D', 'E', 'F', 'G', 'H', 'I', 'J', 'K', 'L', 'M', 'N', 'O', 'P', 'Q', 'R', 'S', 'T', 'U', 'V', 'W', 'X', 'Y', 'Z']\n",
        "numbers = ['0', '1', '2', '3', '4', '5', '6', '7', '8', '9']\n",
        "symbols = ['!', '#', '$', '%', '&', '(', ')', '*', '+']\n",
        "\n",
        "print(\"Welcome to the PyPassword Generator!\")\n",
        "nr_letters= int(input(\"How many letters would you like in your password?\\n\")) \n",
        "nr_symbols = int(input(f\"How many symbols would you like?\\n\"))\n",
        "nr_numbers = int(input(f\"How many numbers would you like?\\n\"))\n",
        "\n",
        "#Eazy Level - Order not randomised:\n",
        "#e.g. 4 letter, 2 symbol, 2 number = JduE&!91\n",
        "\n",
        "\n",
        "#Hard Level - Order of characters randomised:\n",
        "#e.g. 4 letter, 2 symbol, 2 number = g^2jk8&P\n",
        "\n",
        "# password = \"\"\n",
        "\n",
        "# for char in range(1, nr_letters + 1):\n",
        "#   random_char = random.choice(letters)\n",
        "#   password += random_char\n",
        "\n",
        "# for char in range(1, nr_symbols + 1):\n",
        "#   password += random.choice(symbols)\n",
        "\n",
        "# for char in range(1, nr_numbers +1):\n",
        "#   password += random.choice(numbers)\n",
        "\n",
        "# print(password)\n",
        "\n",
        "password = [ ]\n",
        "\n",
        "for char in range(1, nr_letters + 1):\n",
        "  password.append(random.choice(letters))\n",
        "for char in range(1, nr_symbols + 1):\n",
        "  password.append(random.choice(symbols))\n",
        "\n",
        "for char in range(1, nr_numbers +1):\n",
        "  password.append(random.choice(numbers))\n",
        "\n",
        "random.shuffle(password)\n",
        "password"
      ],
      "execution_count": null,
      "outputs": [
        {
          "output_type": "stream",
          "text": [
            "Welcome to the PyPassword Generator!\n",
            "How many letters would you like in your password?\n",
            "4\n",
            "How many symbols would you like?\n",
            "6\n",
            "How many numbers would you like?\n",
            "2\n"
          ],
          "name": "stdout"
        },
        {
          "output_type": "execute_result",
          "data": {
            "text/plain": [
              "['%', 'x', '%', '(', '5', '8', 's', '%', '&', 'e', '!', 'H']"
            ]
          },
          "metadata": {
            "tags": []
          },
          "execution_count": 21
        }
      ]
    },
    {
      "cell_type": "markdown",
      "metadata": {
        "id": "w6oVyHaV8WvM"
      },
      "source": [
        "\n",
        "057 Fork-the-Day-6-Starting-Repl\n",
        "https://repl.it/@appbrewery/day-6-start\n",
        "\n",
        "057 Built-in-Python-Functions\n",
        "https://docs.python.org/3/library/functions.html\n",
        "\n",
        "057 Reeborgs-World-Start\n",
        "https://reeborg.ca/reeborg.html?lang=en&mode=python&menu=worlds%2Fmenus%2Freeborg_intro_en.json&name=Alone&url=worlds%2Ftutorial_en%2Falone.json\n",
        "\n",
        "057 FAQ-I-Cant-Access-Reborgs-World\n",
        "https://www.udemy.com/course/100-days-of-code/learn/lecture/19110416#questions/13317630\n",
        "\n",
        "058 Reeborgs-World-Hurdles-Challenge\n",
        "https://reeborg.ca/reeborg.html?lang=en&mode=python&menu=worlds%2Fmenus%2Freeborg_intro_en.json&name=Hurdle%201&url=worlds%2Ftutorial_en%2Fhurdle1.json\n",
        "\n",
        "059 PEP-8-The-Python-Style-Guide\n",
        "https://www.python.org/dev/peps/pep-0008/\n",
        "\n",
        "060 Reeborgs-World-Hurdles-2-Challenge\n",
        "https://reeborg.ca/reeborg.html?lang=en&mode=python&menu=worlds%2Fmenus%2Freeborg_intro_en.json&name=Hurdle%202&url=worlds%2Ftutorial_en%2Fhurdle2.json\n",
        "\n",
        "061 Reeborgs-World-Hurdles-3-Challenge\n",
        "https://reeborg.ca/reeborg.html?lang=en&mode=python&menu=worlds%2Fmenus%2Freeborg_intro_en.json&name=Hurdle%203&url=worlds%2Ftutorial_en%2Fhurdle3.json\n",
        "\n",
        "063 Course-Fixes-Report-an-Issue\n",
        "https://forms.gle/fpNEQooYBX25gcG67\n",
        "\n",
        "063 Reeborgs-World-Maze-Challenge\n",
        "https://reeborg.ca/reeborg.html?lang=en&mode=python&menu=worlds%2Fmenus%2Freeborg_intro_en.json&name=Maze&url=worlds%2Ftutorial_en%2Fmaze1.json\n",
        "\n",
        "\n",
        "def turn_right():\n",
        "    turn_left()\n",
        "    turn_left()\n",
        "    turn_left()\n",
        "\n",
        "while front_is_clear():\n",
        "    move()\n",
        "turn_left()\n",
        "while not at_goal():\n",
        "    if right_is_clear():        \n",
        "        turn_right()\n",
        "        move()\n",
        "    elif front_is_clear():\n",
        "        move()\n",
        "    else:\n",
        "        turn_left()"
      ]
    },
    {
      "cell_type": "code",
      "metadata": {
        "id": "bXvMmemP8fzv"
      },
      "source": [
        ""
      ],
      "execution_count": null,
      "outputs": []
    }
  ]
}