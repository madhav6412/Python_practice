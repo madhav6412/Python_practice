{
  "nbformat": 4,
  "nbformat_minor": 0,
  "metadata": {
    "colab": {
      "name": "Python practice starting.ipynb",
      "provenance": [],
      "collapsed_sections": [],
      "authorship_tag": "ABX9TyNnCP85NmQuaHSUfDaO1pqb",
      "include_colab_link": true
    },
    "kernelspec": {
      "display_name": "Python 3",
      "name": "python3"
    },
    "language_info": {
      "name": "python"
    },
    "accelerator": "TPU"
  },
  "cells": [
    {
      "cell_type": "markdown",
      "metadata": {
        "id": "view-in-github",
        "colab_type": "text"
      },
      "source": [
        "<a href=\"https://colab.research.google.com/github/madhav6412/Python_practice/blob/main/Python_practice.ipynb\" target=\"_parent\"><img src=\"https://colab.research.google.com/assets/colab-badge.svg\" alt=\"Open In Colab\"/></a>"
      ]
    },
    {
      "cell_type": "code",
      "metadata": {
        "id": "YLCv5G5LV4f3"
      },
      "source": [
        "import pandas as pd\n",
        "import numpy as np"
      ],
      "execution_count": null,
      "outputs": []
    },
    {
      "cell_type": "code",
      "metadata": {
        "colab": {
          "base_uri": "https://localhost:8080/"
        },
        "id": "8Dk7NUJrWRlh",
        "outputId": "c500fc2c-b608-4dce-8d40-ad316d29f37d"
      },
      "source": [
        "a = ('madhav')\n",
        "print(len(a))"
      ],
      "execution_count": null,
      "outputs": [
        {
          "output_type": "stream",
          "text": [
            "6\n"
          ],
          "name": "stdout"
        }
      ]
    },
    {
      "cell_type": "code",
      "metadata": {
        "id": "wftpE3hqWyxK"
      },
      "source": [
        "#len()"
      ],
      "execution_count": null,
      "outputs": []
    },
    {
      "cell_type": "markdown",
      "metadata": {
        "id": "yF88M_fvXVQB"
      },
      "source": [
        "\n",
        "\n",
        "```\n",
        "# This is formatted as code\n",
        "```\n",
        "\n",
        "# Name generator"
      ]
    },
    {
      "cell_type": "code",
      "metadata": {
        "colab": {
          "base_uri": "https://localhost:8080/"
        },
        "id": "kTCo_8U7XYm3",
        "outputId": "e24fceb4-48f9-4532-d876-ef946ca701a5"
      },
      "source": [
        "print(\"Good Morning,welcome to band name generator !\")\n",
        "city = input(\"The city that you are grew Up in \\n\")\n",
        "pet_name = input('Please tell us the name of your pet\\n')\n",
        "print(\"your band name could be \\n\" + city + \" \" + pet_name)\n"
      ],
      "execution_count": null,
      "outputs": [
        {
          "output_type": "stream",
          "text": [
            "Good Morning,welcome to band name generator !\n",
            "The city that you are grew Up in \n",
            "ujjain\n",
            "Please tell us the name of your pet\n",
            "Tomy\n",
            "your band name could beujjain Tomy\n"
          ],
          "name": "stdout"
        }
      ]
    },
    {
      "cell_type": "code",
      "metadata": {
        "colab": {
          "base_uri": "https://localhost:8080/"
        },
        "id": "QQddypxIXdLU",
        "outputId": "d55fb5cd-0fee-4a0b-e9d5-8f5edbfff90a"
      },
      "source": [
        "##Print a two digit number later it will revert me the sum of numbers\n",
        "number =input(str(\"enter your number\"))\n",
        "number = int(number[0])+ int(number[1])\n",
        "print(number)"
      ],
      "execution_count": null,
      "outputs": [
        {
          "output_type": "stream",
          "text": [
            "enter your number12\n",
            "3\n"
          ],
          "name": "stdout"
        }
      ]
    },
    {
      "cell_type": "code",
      "metadata": {
        "colab": {
          "base_uri": "https://localhost:8080/"
        },
        "id": "YbDa1mhqe5IL",
        "outputId": "99f15ddc-4d85-43e0-cabd-ed08819888b1"
      },
      "source": [
        "number = input(\"type a two digit number\\n\")\n",
        "first =number[0]\n",
        "second =number[1]\n",
        "result =int(first) + int(second)\n",
        "result"
      ],
      "execution_count": null,
      "outputs": [
        {
          "output_type": "stream",
          "text": [
            "type a two digit number\n",
            "23\n"
          ],
          "name": "stdout"
        },
        {
          "output_type": "execute_result",
          "data": {
            "text/plain": [
              "5"
            ]
          },
          "metadata": {
            "tags": []
          },
          "execution_count": 12
        }
      ]
    },
    {
      "cell_type": "code",
      "metadata": {
        "id": "Dm-SMx0ufyG9",
        "colab": {
          "base_uri": "https://localhost:8080/"
        },
        "outputId": "90ae758f-63b3-43b1-ae50-a7dd92d90daa"
      },
      "source": [
        "height = int(input(\"enter the height\"))\n",
        "weight = int(input('WEight'))\n",
        "BMI = (weight / height**2)\n",
        "print(BMI)"
      ],
      "execution_count": null,
      "outputs": [
        {
          "output_type": "stream",
          "text": [
            "enter the height45\n",
            "WEight48\n",
            "0.023703703703703703\n"
          ],
          "name": "stdout"
        }
      ]
    },
    {
      "cell_type": "code",
      "metadata": {
        "id": "9Mn4dApARu5D",
        "colab": {
          "base_uri": "https://localhost:8080/"
        },
        "outputId": "e8a54fbe-083c-4901-bdcd-053870924595"
      },
      "source": [
        "age = int(input(\"what is your current age\"))\n",
        "years = 90 - age\n",
        "months = years *12\n",
        "days = years*365\n",
        "remaining = f\"you have {days}, {months} and {years}\"\n",
        "print(remaining)"
      ],
      "execution_count": null,
      "outputs": [
        {
          "output_type": "stream",
          "text": [
            "what is your current age23\n",
            "you have 24455, 804 and 67\n"
          ],
          "name": "stdout"
        }
      ]
    },
    {
      "cell_type": "code",
      "metadata": {
        "id": "68smMoIj8uNc",
        "colab": {
          "base_uri": "https://localhost:8080/"
        },
        "outputId": "9199f534-a4c0-462d-c653-7656183c15cc"
      },
      "source": [
        "#tip calculator\n",
        "total_bill = float(input(\"\\n What was the total bill $ \"))\n",
        "tip = float(input(\"\\n how many percentage you want to give tip \"))\n",
        "persons = float(input(\"\\n number of people\"))\n",
        "final_bill_tip = total_bill*(1+ total_bill)\n",
        "final_bill = round(final_bill / persons)\n",
        "print(f\"each person should pay {final_bill}\")"
      ],
      "execution_count": null,
      "outputs": [
        {
          "output_type": "stream",
          "text": [
            "\n",
            " What was the total bill $123\n",
            "\n",
            " how many percentage you want to give tip5\n",
            "\n",
            " number of people8\n",
            "each person should pay 5\n"
          ],
          "name": "stdout"
        }
      ]
    },
    {
      "cell_type": "code",
      "metadata": {
        "colab": {
          "base_uri": "https://localhost:8080/"
        },
        "id": "SByPsQHDejki",
        "outputId": "71188444-0f1b-4c6a-b9a9-ead0e4d6929a"
      },
      "source": [
        "#Weather a number is odd and even\n",
        "number =int(input(\"Which number you wants to check \"))\n",
        "if number % 2 == 0:\n",
        "  print(\"Above number is Even\")\n",
        "else:\n",
        "  print(\"odd\")"
      ],
      "execution_count": null,
      "outputs": [
        {
          "output_type": "stream",
          "text": [
            "Which number you wants to check 57\n",
            "odd\n"
          ],
          "name": "stdout"
        }
      ]
    },
    {
      "cell_type": "code",
      "metadata": {
        "colab": {
          "base_uri": "https://localhost:8080/"
        },
        "id": "SD9fnT1MiiZd",
        "outputId": "66dbefb7-c245-4075-aa88-6082e6990a42"
      },
      "source": [
        "height = int(input(\"please enter the height\"))\n",
        "if height >=120:\n",
        "  print(\"you can ride the roller\")\n",
        "  age = int(input(\"Age \"))\n",
        "  if age < 12:\n",
        "    print(\"You Hve to pay $ 5\")\n",
        "  elif age <= 18:\n",
        "    print(\"please pay $ 7\")\n",
        "  else:\n",
        "    print(\"please pay $ 12\")\n",
        "else:\n",
        "  print(\"Go home baby\")3"
      ],
      "execution_count": null,
      "outputs": [
        {
          "output_type": "stream",
          "text": [
            "please enter the height444\n",
            "you can ride the roller\n",
            "Age 16\n",
            "please pay $ 7\n"
          ],
          "name": "stdout"
        }
      ]
    },
    {
      "cell_type": "code",
      "metadata": {
        "colab": {
          "base_uri": "https://localhost:8080/"
        },
        "id": "9v4kOT6UjO4p",
        "outputId": "1b760273-92ed-467e-a8dd-56f74cf88d50"
      },
      "source": [
        " #BMI EXercise\n",
        " height = float(input(\"please Enter Your height \"))\n",
        " weight = float(input(\"please Enter yoyur weight \"))\n",
        " bmi = weight /height**2\n",
        "print(bmi)\n",
        "if bmi <=18.5:\n",
        "  print(\"Underweight\")\n",
        "elif bmi  <=25:\n",
        "  print(\"Normal weight\")\n",
        "elif bmi <=30:\n",
        "  print(\"overweight\")\n",
        "elif bmi <=35:\n",
        "  print(\"obese\")\n",
        "else:\n",
        "  print(\" Clinically obese\")"
      ],
      "execution_count": null,
      "outputs": [
        {
          "output_type": "stream",
          "text": [
            "please Enter Your height 1.86\n",
            "please Enter yoyur weight 86\n",
            "24.858365128916635\n",
            "Normal weight\n"
          ],
          "name": "stdout"
        }
      ]
    },
    {
      "cell_type": "code",
      "metadata": {
        "colab": {
          "base_uri": "https://localhost:8080/"
        },
        "id": "EsIxQ4CnrG0Y",
        "outputId": "60130be4-bf55-4a5e-ee0a-5bcfea7d4dca"
      },
      "source": [
        "#Leap year exercise\n",
        "year = int(input(\"Which year You want to check ? \"))\n",
        "if year % 4 == 0 :\n",
        "  if year % 100 ==0:\n",
        "    if year % 400 ==0:\n",
        "      print(\"leap year\")\n",
        "    else:\n",
        "      print(' NOT a Leap year')\n",
        "  else:\n",
        "    print(\"That is not the leap year\")\n",
        "else:\n",
        "  print(\"leawp year\")"
      ],
      "execution_count": null,
      "outputs": [
        {
          "output_type": "stream",
          "text": [
            "Which year You want to check ? 120\n",
            "That is not the leap year\n"
          ],
          "name": "stdout"
        }
      ]
    },
    {
      "cell_type": "code",
      "metadata": {
        "colab": {
          "base_uri": "https://localhost:8080/"
        },
        "id": "pUWX2_g4tqjs",
        "outputId": "5c3496ca-d20b-452b-8014-f9902fa6c6b0"
      },
      "source": [
        "year = int(input(\"Which year you want to check\"))\n",
        "if year % 4 ==0:\n",
        "  if year % 100 ==0:\n",
        "    if year  % 400 ==0:\n",
        "      print(\"leap\")\n",
        "    else:\n",
        "      print(\"not leap\")\n",
        "  else:\n",
        "    print(\"leap\")\n",
        "else:\n",
        "  print(\"not leap\")"
      ],
      "execution_count": null,
      "outputs": [
        {
          "output_type": "stream",
          "text": [
            "Which year you want to check500\n",
            "not leap\n"
          ],
          "name": "stdout"
        }
      ]
    },
    {
      "cell_type": "code",
      "metadata": {
        "id": "Xd6C0-V9vXHk",
        "colab": {
          "base_uri": "https://localhost:8080/"
        },
        "outputId": "f31cd852-59de-45a2-8d00-837913ecb9fe"
      },
      "source": [
        "height = int(input(\"please enter the height : \"))\n",
        "if height > 120:\n",
        "  print(\"can ride\")\n",
        "  age = int(input(\"Enter age :\"))\n",
        "  if age <= 12:\n",
        "    bill = 5\n",
        "  elif age <=18:\n",
        "    bill = 7\n",
        "  else:\n",
        "    bill =12\n",
        "\n",
        "  want_photo = input(\"Do you want photo taken ? Y or N\")\n",
        "\n",
        "  if want_photo == \"Y\":\n",
        "    bill +=3\n",
        "  print(f\"Your final bill is {bill}\")\n",
        "else:\n",
        "  print(\"Go to home\")"
      ],
      "execution_count": 6,
      "outputs": [
        {
          "output_type": "stream",
          "text": [
            "please enter the height : 121\n",
            "can ride\n",
            "Enter age :21\n",
            "Do you want photo taken ? Y or NY\n",
            "Your final bill is 15\n"
          ],
          "name": "stdout"
        }
      ]
    },
    {
      "cell_type": "code",
      "metadata": {
        "id": "a-0RiMW4mRwN"
      },
      "source": [
        "##Pizza order programm\n",
        "print(\"welcome to the prizza  deliveries\")\n",
        "size = input(\"What Size of pizza do you want\\n L,S or M :\")\n",
        "add_pepperoni =input(\"Do you want pepperoni ?: Y or N :\")\n",
        "extra_cheese = input(\"Do you want extra cheese ? Y or N :\")\n",
        "bill = 0\n",
        "if size == \"S\":\n",
        "  bill += 15\n",
        "elif size ==\"M\":\n",
        "  bill += 20\n",
        "else:\n",
        "  bill += 25\n",
        "\n",
        "if add_pepperoni =='Y':\n",
        "  if size ==\"S\":                   #Nested IF condition\n",
        "    bill =+2\n",
        "  else:\n",
        "    bill =+3\n",
        "  bill +=3\n",
        "\n",
        "if extra_cheese ==\"Y\":\n",
        "  bill =+1\n",
        "print(f\"final bill is {bill}\")"
      ],
      "execution_count": null,
      "outputs": []
    },
    {
      "cell_type": "code",
      "metadata": {
        "colab": {
          "base_uri": "https://localhost:8080/"
        },
        "id": "yr8aFNP1whZm",
        "outputId": "7a67ca28-6527-466d-a703-3a09fd498b2a"
      },
      "source": [
        "# We can use the same above codees using the logical operators\n",
        "\n",
        "height = int(input(\"please enter the height : \"))\n",
        "if height > 120:\n",
        "  print(\"can ride\")\n",
        "  age = int(input(\"Enter age :\"))\n",
        "  if age <= 12:\n",
        "    bill = 5\n",
        "    print(f\"Ticket {bill}\")\n",
        "  elif age <=18:\n",
        "    bill = 7\n",
        "    print(f\"Ticket {bill}\")\n",
        "  elif age >=45 and age <=55:       #Using the logical operators\n",
        "    bill =0\n",
        "    print(\"Your ride is free\")\n",
        "  else:\n",
        "    bill =12\n",
        "    print(f\"Ticket {bill}\")\n",
        "\n",
        "  want_photo = input(\"Do you want photo taken ? Y or N\")\n",
        "\n",
        "  if want_photo == \"Y\":\n",
        "    bill +=3\n",
        "  print(f\"Your final bill is {bill}\")\n",
        "else:\n",
        "  print(\"Go to home\")"
      ],
      "execution_count": 10,
      "outputs": [
        {
          "output_type": "stream",
          "text": [
            "please enter the height : 121\n",
            "can ride\n",
            "Enter age :45\n",
            "Your ride is free\n",
            "Do you want photo taken ? Y or NN\n",
            "Your final bill is 0\n"
          ],
          "name": "stdout"
        }
      ]
    },
    {
      "cell_type": "code",
      "metadata": {
        "id": "3fu8SIYrx3f1"
      },
      "source": [
        "##Love Calculator"
      ],
      "execution_count": null,
      "outputs": []
    }
  ]
}